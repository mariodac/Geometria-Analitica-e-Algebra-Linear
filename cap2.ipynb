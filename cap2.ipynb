{
  "nbformat": 4,
  "nbformat_minor": 0,
  "metadata": {
    "colab": {
      "provenance": [],
      "authorship_tag": "ABX9TyMPfPFTgXoL1tqD0uqUIGGx",
      "include_colab_link": true
    },
    "kernelspec": {
      "name": "python3",
      "display_name": "Python 3"
    },
    "language_info": {
      "name": "python"
    }
  },
  "cells": [
    {
      "cell_type": "markdown",
      "metadata": {
        "id": "view-in-github",
        "colab_type": "text"
      },
      "source": [
        "<a href=\"https://colab.research.google.com/github/mariodac/Geometria-Analitica-e-Algebra-Linear/blob/master/cap2.ipynb\" target=\"_parent\"><img src=\"https://colab.research.google.com/assets/colab-badge.svg\" alt=\"Open In Colab\"/></a>"
      ]
    },
    {
      "cell_type": "markdown",
      "source": [
        "1- Dados os vetores **u** = (1, 2), **v** = (2, -1) e **w** = (3, 1),  calcule:\n",
        "\n",
        "\n",
        "(a) **u** + **v**;\n",
        "\n",
        "(b) **u** − **v**;\n",
        "\n",
        "(c) **u** + **v** − w**;\n",
        "\n",
        "(d) 2 · **u** − 3 ·**v** + **w**;\n",
        "\n",
        "(e) **u** ·(**v** · **w**);\n",
        "\n",
        "(f) (**u** ·**v**) · **w**\n",
        "\n"
      ],
      "metadata": {
        "id": "JjZba6trkG45"
      }
    },
    {
      "cell_type": "code",
      "execution_count": null,
      "metadata": {
        "id": "ex_ggqfqkEL3"
      },
      "outputs": [],
      "source": [
        "vetor_u = np.array([1, 2])\n",
        "vetor_v = np.array([2, -1])\n",
        "vetor_w = np.array([3, 1])"
      ]
    }
  ]
}