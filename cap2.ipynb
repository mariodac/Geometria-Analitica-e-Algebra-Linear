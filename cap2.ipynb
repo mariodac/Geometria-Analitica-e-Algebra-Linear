{
  "nbformat": 4,
  "nbformat_minor": 0,
  "metadata": {
    "colab": {
      "provenance": [],
      "collapsed_sections": [
        "JjZba6trkG45"
      ],
      "authorship_tag": "ABX9TyNh5WkzxMD8eVmy68lg8bIT",
      "include_colab_link": true
    },
    "kernelspec": {
      "name": "python3",
      "display_name": "Python 3"
    },
    "language_info": {
      "name": "python"
    }
  },
  "cells": [
    {
      "cell_type": "markdown",
      "metadata": {
        "id": "view-in-github",
        "colab_type": "text"
      },
      "source": [
        "<a href=\"https://colab.research.google.com/github/mariodac/Geometria-Analitica-e-Algebra-Linear/blob/master/cap2.ipynb\" target=\"_parent\"><img src=\"https://colab.research.google.com/assets/colab-badge.svg\" alt=\"Open In Colab\"/></a>"
      ]
    },
    {
      "cell_type": "code",
      "source": [
        "import numpy as np"
      ],
      "metadata": {
        "id": "YczMV2KmmO3P"
      },
      "execution_count": 3,
      "outputs": []
    },
    {
      "cell_type": "markdown",
      "source": [
        "# 2.4 Exercícios"
      ],
      "metadata": {
        "id": "svUzk0w1EzJy"
      }
    },
    {
      "cell_type": "markdown",
      "source": [
        "## 1- Dados os vetores $u = (1, 2)$, $v = (2, -1)$ e $w = (3, 1)$,  calcule:\n",
        "\n",
        "(a) $u + v;$\n",
        "\n",
        "(b) $u − v;$\n",
        "\n",
        "(c) $u + v − w;$\n",
        "\n",
        "(d) $2 ⋅ u − 3 ·v + w;$\n",
        "\n",
        "(e) $u ⋅ (v · w);$\n",
        "\n",
        "(f) $(u ·v) · w$\n",
        "\n"
      ],
      "metadata": {
        "id": "JjZba6trkG45"
      }
    },
    {
      "cell_type": "code",
      "execution_count": 4,
      "metadata": {
        "colab": {
          "base_uri": "https://localhost:8080/"
        },
        "id": "ex_ggqfqkEL3",
        "outputId": "7de9377d-06c1-4ef1-978a-b1b9a7aa503e"
      },
      "outputs": [
        {
          "output_type": "stream",
          "name": "stdout",
          "text": [
            "(a) u + v = [3 1]\n",
            "(b) u - v = [-1  3]\n",
            "(c) u + v - w = [0 0]\n",
            "(d) 2 · u - 3 · v + w = [1 2]\n",
            "(e) u · (v · w) = [ 5 10]\n",
            "(f) (u . v) . w = [0 0]\n"
          ]
        }
      ],
      "source": [
        "vetor_u = np.array([1, 2])\n",
        "vetor_v = np.array([2, -1])\n",
        "vetor_w = np.array([3, 1])\n",
        "resposta_a = vetor_u + vetor_v\n",
        "resposta_b = vetor_u - vetor_v\n",
        "resposta_c = vetor_u + vetor_v - vetor_w\n",
        "resposta_d = (2 * vetor_v) - (3 * vetor_v) + vetor_w\n",
        "resposta_e = vetor_u * np.dot(vetor_v, vetor_w)\n",
        "reposta_f = np.dot(vetor_u, vetor_v) * vetor_w\n",
        "print(\"(a) u + v = {}\".format(resposta_a))\n",
        "print(\"(b) u - v = {}\".format(resposta_b))\n",
        "print(\"(c) u + v - w = {}\".format(resposta_c))\n",
        "print(\"(d) 2 · u - 3 · v + w = {}\".format(resposta_d))\n",
        "print(\"(e) u · (v · w) = {}\".format(resposta_e))\n",
        "print(\"(f) (u . v) . w = {}\".format(reposta_f))"
      ]
    },
    {
      "cell_type": "markdown",
      "source": [
        "## 2- Dados os vetores u = (1, 2, 3), v = (-1, 2, -1) e w = (2, -1, 0), calcule:\n",
        "\n",
        "(a) $u + v;$\n",
        "\n",
        "(b) $u − v;$\n",
        "\n",
        "(c) $−3 · u + 4 · v − w;$\n",
        "\n",
        "(d) $2 · u − 3 · v + w;$\n",
        "\n",
        "(e) $2 · u · (v · w);$\n",
        "\n",
        "(f ) $(u · v) · w$"
      ],
      "metadata": {
        "id": "VOO5fftkluiv"
      }
    },
    {
      "cell_type": "code",
      "source": [
        "vetor_u = np.array([1, 2, 3])\n",
        "vetor_v = np.array([1, 2, -1])\n",
        "vetor_w = np.array([2, -1, 0])\n",
        "resposta_a = vetor_u + vetor_v\n",
        "print(\"(a) u + v = {}\".format(resposta_a))\n",
        "resposta_b = vetor_u - vetor_v\n",
        "print(\"(b) u - v = {}\".format(resposta_b))\n",
        "resposta_c = (-3 * vetor_u) + (4 * vetor_v) + vetor_w\n",
        "print(\"(c) -3 . u + 4 . v + w = {}\".format(resposta_c))\n",
        "resposta_d = (2 * vetor_v) - (3 * vetor_v) + vetor_w\n",
        "print(\"(d) 2 · u - 3 · v + w = {}\".format(resposta_d))\n",
        "resposta_e = (2 * vetor_u) * np.dot(vetor_v, vetor_w)\n",
        "print(\"(e) 2 . u · (v · w) = {}\".format(resposta_e))\n",
        "resposta_f = np.dot(vetor_u, vetor_v) * vetor_w\n",
        "print(\"(f) (u . v) . w = {}\".format(resposta_f))"
      ],
      "metadata": {
        "colab": {
          "base_uri": "https://localhost:8080/"
        },
        "id": "hm7WJDlVmT8F",
        "outputId": "ea576641-9c28-4bf5-a108-2a5ce85dae17"
      },
      "execution_count": 5,
      "outputs": [
        {
          "output_type": "stream",
          "name": "stdout",
          "text": [
            "(a) u + v = [2 4 2]\n",
            "(b) u - v = [0 0 4]\n",
            "(c) -3 . u + 4 . v + w = [  3   1 -13]\n",
            "(d) 2 · u - 3 · v + w = [ 1 -3  1]\n",
            "(e) 2 . u · (v · w) = [0 0 0]\n",
            "(f) (u . v) . w = [ 4 -2  0]\n"
          ]
        }
      ]
    },
    {
      "cell_type": "markdown",
      "source": [
        "## *3*- Determine os tamanhos e tipos das matrizes abaixo e os resultados das operações\n",
        "\n",
        "$A =$\n",
        "$\\begin{bmatrix}\n",
        "1&2&3\\\\\n",
        "2&1&-1\\\\\n",
        "\\end{bmatrix}$\n",
        "$B = $\n",
        "$\\begin{bmatrix}\n",
        "-2&0&1\\\\\n",
        "3&0&1\\\\\n",
        "\\end{bmatrix}$\n",
        "$C = $\n",
        "$\\begin{bmatrix}\n",
        "-1\\\\\n",
        "2\\\\\n",
        "4\n",
        "\\end{bmatrix}$\n",
        "$D = $\n",
        "$\\begin{bmatrix}\n",
        "2&-1\\\\\n",
        "\\end{bmatrix}$\n",
        "\n",
        "(a) $A+B$  \n",
        "\n",
        "(b) $2A−B$\n",
        "\n",
        "(c) $A^T$   \n",
        "\n",
        "(d) $A·C$\n",
        "\n",
        "(e) $C·D$\n",
        "\n",
        "(f) $D·B$\n",
        "\n",
        "(g) $BT·B$\n",
        "\n",
        "(h) $A·C·D·B$\n",
        "\n",
        "(i) $A·B^T+D^T·D$"
      ],
      "metadata": {
        "id": "IQcRUAZCoX3Q"
      }
    },
    {
      "cell_type": "code",
      "source": [
        "def montar_matriz(matriz):\n",
        "  num_linhas, num_colunas = matriz.shape\n",
        "  matriz_imp = \"\"\n",
        "  for i in range(num_linhas):\n",
        "      matriz_imp += \"|\\t\" +\"\\t\".join([str(matriz[i, j]) for j in range(num_colunas)])+\"\\t|\"\n",
        "      if i < num_linhas - 1:\n",
        "          matriz_imp += \"\\n\"\n",
        "  return matriz_imp\n",
        "\n",
        "def tipo_matriz(matriz):\n",
        "  num_linhas, num_colunas = matriz.shape\n",
        "  tipo = \"\"\n",
        "  if num_linhas == num_colunas:\n",
        "    tipo = \"Quadrada\"\n",
        "    if np.all(matriz == 0):\n",
        "      tipo += \", Nula\"\n",
        "    if np.array_equal(matriz, np.triu(matriz)):\n",
        "      tipo += \", Triangular Superior\"\n",
        "    if np.array_equal(matriz, np.tril(matriz)):\n",
        "      tipo += \", Triangular Inferior\"\n",
        "    if np.array_equal(matriz, np.diag(np.diag(matriz))):\n",
        "      tipo += \", Diagonal\"\n",
        "    if np.array_equal(matriz, np.eye(matriz.shape[0])):\n",
        "      tipo += \", Identidade\"\n",
        "    if np.array_equal(matriz, matriz.T):\n",
        "      tipo += \", Simétrica\"\n",
        "    if np.array_equal(matriz, -matriz.T):\n",
        "      tipo += \", Antissimétrica\"\n",
        "  elif num_linhas == 1 and num_colunas > 0:\n",
        "    tipo = \"Matriz Linha\"\n",
        "  elif num_linhas > 0 and num_colunas == 1:\n",
        "    tipo = \"Matriz Coluna\"\n",
        "  else:\n",
        "    tipo = \"Retangular\"\n",
        "\n",
        "  return tipo\n",
        "\n",
        "matriz_a = np.array([[1, 2, 3], [2, 1, -1]])\n",
        "matriz_b = np.array([[-2, 0, 1], [3, 0, 1]])\n",
        "matriz_c = np.array([[-1], [2], [4]])\n",
        "matriz_d = np.array([[2, -1]])\n",
        "print(\"Matriz A\")\n",
        "print(montar_matriz(matriz_a))\n",
        "print(\"Tamanho: {}X{}\".format(matriz_a.shape[0], matriz_a.shape[1]))\n",
        "print(\"Tipo: {}\".format(tipo_matriz(matriz_a)))\n",
        "print()\n",
        "print(\"Matriz B\")\n",
        "print(montar_matriz(matriz_b))\n",
        "print(\"Tamanho: {}X{}\".format(matriz_b.shape[0], matriz_b.shape[1]))\n",
        "print(\"Tipo: {}\".format(tipo_matriz(matriz_b)))\n",
        "print()\n",
        "print(\"Matriz C\")\n",
        "print(montar_matriz(matriz_c))\n",
        "print(\"Tamanho: {}X{}\".format(matriz_c.shape[0], matriz_c.shape[1]))\n",
        "print(\"Tipo: {}\".format(tipo_matriz(matriz_c)))\n",
        "print()\n",
        "print(\"Matriz D\")\n",
        "print(montar_matriz(matriz_d))\n",
        "print(\"Tamanho: {}X{}\".format(matriz_d.shape[0], matriz_d.shape[1]))\n",
        "print(\"Tipo: {}\".format(tipo_matriz(matriz_d)))\n",
        "print()\n",
        "resposta_a = matriz_a + matriz_b\n",
        "print(\"(a) A + B \\n{}\".format(montar_matriz(resposta_a)))\n",
        "print(\"Tamanho: {}X{}\".format(resposta_a.shape[0], resposta_a.shape[1]))\n",
        "print(\"Tipo: {}\".format(tipo_matriz(resposta_a)))\n",
        "print()\n",
        "resposta_b = (2 * matriz_a)  - matriz_b\n",
        "print(\"(b) 2A - B \\n{}\".format(montar_matriz(resposta_b)))\n",
        "print(\"Tamanho: {}X{}\".format(resposta_b.shape[0], resposta_b.shape[1]))\n",
        "print(\"Tipo: {}\".format(tipo_matriz(resposta_b)))\n",
        "print()\n",
        "resposta_c = matriz_a.T\n",
        "print(\"(c) A^T \\n{}\".format(montar_matriz(resposta_c)))\n",
        "print(\"Tamanho: {}X{}\".format(resposta_c.shape[0], resposta_c.shape[1]))\n",
        "print(\"Tipo: {}\".format(tipo_matriz(resposta_c)))\n",
        "print()\n",
        "resposta_d = np.dot(matriz_a, matriz_c)\n",
        "print(\"(d) A ⋅ C \\n{}\".format(montar_matriz(resposta_d)))\n",
        "print(\"Tamanho: {}X{}\".format(resposta_d.shape[0], resposta_d.shape[1]))\n",
        "print(\"Tipo: {}\".format(tipo_matriz(resposta_d)))\n",
        "print()\n",
        "resposta_e = np.dot(matriz_c, matriz_d)\n",
        "print(\"(e) C ⋅ D \\n{}\".format(montar_matriz(resposta_e)))\n",
        "print(\"Tamanho: {}X{}\".format(resposta_e.shape[0], resposta_e.shape[1]))\n",
        "print(\"Tipo: {}\".format(tipo_matriz(resposta_e)))\n",
        "print()\n",
        "resposta_f = np.dot(matriz_d, matriz_b)\n",
        "print(\"(f) D ⋅ B \\n{}\".format(montar_matriz(resposta_f)))\n",
        "print(\"Tamanho: {}X{}\".format(resposta_f.shape[0], resposta_f.shape[1]))\n",
        "print(\"Tipo: {}\".format(tipo_matriz(resposta_f)))\n",
        "print()\n",
        "resposta_g = np.dot(matriz_b.T, matriz_b)\n",
        "print(\"(g) B^T ⋅ B \\n{}\".format(montar_matriz(resposta_g)))\n",
        "print(\"Tamanho: {}X{}\".format(resposta_g.shape[0], resposta_g.shape[1]))\n",
        "print(\"Tipo: {}\".format(tipo_matriz(resposta_g)))\n",
        "print()\n",
        "resposta_h = np.dot(matriz_a, matriz_c) @ np.dot(matriz_d, matriz_b)\n",
        "print(\"(h) A ⋅ C ⋅ D ⋅ B \\n{}\".format(montar_matriz(resposta_h)))\n",
        "print(\"Tamanho: {}X{}\".format(resposta_h.shape[0], resposta_h.shape[1]))\n",
        "print(\"Tipo: {}\".format(tipo_matriz(resposta_h)))\n",
        "print()\n",
        "resposta_i = np.dot(matriz_a, matriz_b.T) + np.dot(matriz_d.T, matriz_d)\n",
        "print(\"(i) A ⋅ B^T ⋅ D^T ⋅ D \\n{}\".format(montar_matriz(resposta_i)))\n",
        "print(\"Tamanho: {}X{}\".format(resposta_i.shape[0], resposta_i.shape[1]))\n",
        "print(\"Tipo: {}\".format(tipo_matriz(resposta_i)))"
      ],
      "metadata": {
        "id": "T8ORw6kevjtq",
        "colab": {
          "base_uri": "https://localhost:8080/"
        },
        "outputId": "1aa99928-0174-4334-859e-f583c0b7691b"
      },
      "execution_count": 6,
      "outputs": [
        {
          "output_type": "stream",
          "name": "stdout",
          "text": [
            "Matriz A\n",
            "|\t1\t2\t3\t|\n",
            "|\t2\t1\t-1\t|\n",
            "Tamanho: 2X3\n",
            "Tipo: Retangular\n",
            "\n",
            "Matriz B\n",
            "|\t-2\t0\t1\t|\n",
            "|\t3\t0\t1\t|\n",
            "Tamanho: 2X3\n",
            "Tipo: Retangular\n",
            "\n",
            "Matriz C\n",
            "|\t-1\t|\n",
            "|\t2\t|\n",
            "|\t4\t|\n",
            "Tamanho: 3X1\n",
            "Tipo: Matriz Coluna\n",
            "\n",
            "Matriz D\n",
            "|\t2\t-1\t|\n",
            "Tamanho: 1X2\n",
            "Tipo: Matriz Linha\n",
            "\n",
            "(a) A + B \n",
            "|\t-1\t2\t4\t|\n",
            "|\t5\t1\t0\t|\n",
            "Tamanho: 2X3\n",
            "Tipo: Retangular\n",
            "\n",
            "(b) 2A - B \n",
            "|\t4\t4\t5\t|\n",
            "|\t1\t2\t-3\t|\n",
            "Tamanho: 2X3\n",
            "Tipo: Retangular\n",
            "\n",
            "(c) A^T \n",
            "|\t1\t2\t|\n",
            "|\t2\t1\t|\n",
            "|\t3\t-1\t|\n",
            "Tamanho: 3X2\n",
            "Tipo: Retangular\n",
            "\n",
            "(d) A ⋅ C \n",
            "|\t15\t|\n",
            "|\t-4\t|\n",
            "Tamanho: 2X1\n",
            "Tipo: Matriz Coluna\n",
            "\n",
            "(e) C ⋅ D \n",
            "|\t-2\t1\t|\n",
            "|\t4\t-2\t|\n",
            "|\t8\t-4\t|\n",
            "Tamanho: 3X2\n",
            "Tipo: Retangular\n",
            "\n",
            "(f) D ⋅ B \n",
            "|\t-7\t0\t1\t|\n",
            "Tamanho: 1X3\n",
            "Tipo: Matriz Linha\n",
            "\n",
            "(g) B^T ⋅ B \n",
            "|\t13\t0\t1\t|\n",
            "|\t0\t0\t0\t|\n",
            "|\t1\t0\t2\t|\n",
            "Tamanho: 3X3\n",
            "Tipo: Quadrada, Simétrica\n",
            "\n",
            "(h) A ⋅ C ⋅ D ⋅ B \n",
            "|\t-105\t0\t15\t|\n",
            "|\t28\t0\t-4\t|\n",
            "Tamanho: 2X3\n",
            "Tipo: Retangular\n",
            "\n",
            "(i) A ⋅ B^T ⋅ D^T ⋅ D \n",
            "|\t5\t4\t|\n",
            "|\t-7\t6\t|\n",
            "Tamanho: 2X2\n",
            "Tipo: Quadrada\n"
          ]
        }
      ]
    },
    {
      "cell_type": "markdown",
      "source": [
        "## 4 Determine os tipos das matrizes abaixo e os resultados das operações:\n",
        "\n",
        "$A =$\n",
        "$\\begin{bmatrix}\n",
        "1&2&3\\\\\n",
        "0&0&-1\\\\\n",
        "0&0&-2\\\\\n",
        "\\end{bmatrix}$\n",
        "$B = $\n",
        "$\\begin{bmatrix}\n",
        "-2&0&0\\\\\n",
        "3&-2&0\\\\\n",
        "2&1&-1\\\\\n",
        "\\end{bmatrix}$\n",
        "$C = $\n",
        "$\\begin{bmatrix}\n",
        "1&0&1\\\\\n",
        "0&2&0\\\\\n",
        "0&0&-1\\\\\n",
        "\\end{bmatrix}$\n",
        "$D = $\n",
        "$\\begin{bmatrix}\n",
        "1&1&0\\\\\n",
        "1&0&-1\\\\\n",
        "0&-1&3\\\\\n",
        "\\end{bmatrix}$\n",
        "$I_3 = $\n",
        "$\\begin{bmatrix}\n",
        "1&0&0\\\\\n",
        "0&1&0\\\\\n",
        "0&0&1\\\\\n",
        "\\end{bmatrix}$\n",
        "\n",
        "(a) $A+B−C+D−I_3$\n",
        "\n",
        "(b) $B^T·A$\n",
        "\n",
        "(c) $D·C$\n",
        "\n",
        "(d) $C^T·D^T$\n",
        "\n",
        "(e) $C·2I_3$\n",
        "\n",
        "(f) $A·B·C·D·I_3$\n",
        "\n",
        "(g) $B· (A+D)$\n",
        "\n",
        "(h) $C+C^2+C^3+C^4$\n",
        "\n",
        "(i) $A^2+B^2$"
      ],
      "metadata": {
        "id": "vTBNR1BhFTsR"
      }
    },
    {
      "cell_type": "code",
      "source": [
        "matriz_a = np.array([[1, 2, 3], [0, 1, -1], [0, 0, -2]])\n",
        "matriz_b = np.array([[-2, 0 ,0], [3, -2, 0], [2, 1, -1]])\n",
        "matriz_c = np.array([[1, 0, 0], [0, 2, 0], [0, 0, -1]])\n",
        "matriz_d = np.array([[1, 1, 0], [1, 0, -1], [0, -1, 3]])\n",
        "matriz_i = np.eye(3)\n",
        "print(\"Matriz A\")\n",
        "print(montar_matriz(matriz_a))\n",
        "print(\"Tamanho: {}X{}\".format(matriz_a.shape[0], matriz_a.shape[1]))\n",
        "print(\"Tipo: {}\".format(tipo_matriz(matriz_a)))\n",
        "print()\n",
        "print(\"Matriz B\")\n",
        "print(montar_matriz(matriz_b))\n",
        "print(\"Tamanho: {}X{}\".format(matriz_b.shape[0], matriz_b.shape[1]))\n",
        "print(\"Tipo: {}\".format(tipo_matriz(matriz_b)))\n",
        "print()\n",
        "print(\"Matriz C\")\n",
        "print(montar_matriz(matriz_c))\n",
        "print(\"Tamanho: {}X{}\".format(matriz_c.shape[0], matriz_c.shape[1]))\n",
        "print(\"Tipo: {}\".format(tipo_matriz(matriz_c)))\n",
        "print()\n",
        "print(\"Matriz D\")\n",
        "print(montar_matriz(matriz_d))\n",
        "print(\"Tamanho: {}X{}\".format(matriz_d.shape[0], matriz_d.shape[1]))\n",
        "print(\"Tipo: {}\".format(tipo_matriz(matriz_d)))\n",
        "print()\n",
        "print(\"Matriz I_3\")\n",
        "print(montar_matriz(matriz_i))\n",
        "print(\"Tamanho: {}X{}\".format(matriz_i.shape[0], matriz_i.shape[1]))\n",
        "print(\"Tipo: {}\".format(tipo_matriz(matriz_i)))\n",
        "print()\n",
        "resposta_a = matriz_a + matriz_b - matriz_c - matriz_i\n",
        "print(\"(a) A + B − C + D−I_3 \\n{}\".format(montar_matriz(resposta_a)))\n",
        "print(\"Tamanho: {}X{}\".format(resposta_a.shape[0], resposta_a.shape[1]))\n",
        "print(\"Tipo: {}\".format(tipo_matriz(resposta_a)))\n",
        "print()\n",
        "resposta_b = matriz_b.T @ matriz_a\n",
        "print(\"(b) B^T ⋅ A \\n{}\".format(montar_matriz(resposta_b)))\n",
        "print(\"Tamanho: {}X{}\".format(resposta_b.shape[0], resposta_b.shape[1]))\n",
        "print(\"Tipo: {}\".format(tipo_matriz(resposta_b)))\n",
        "print()\n",
        "resposta_c = matriz_d @ matriz_c\n",
        "print(\"(c)  D ⋅ C \\n{}\".format(montar_matriz(resposta_c)))\n",
        "print(\"Tamanho: {}X{}\".format(resposta_c.shape[0], resposta_c.shape[1]))\n",
        "print(\"Tipo: {}\".format(tipo_matriz(resposta_c)))\n",
        "print()\n",
        "resposta_d = matriz_c.T @ matriz_d.T\n",
        "print(\"(d) C^T · D^T \\n{}\".format(montar_matriz(resposta_d)))\n",
        "print(\"Tamanho: {}X{}\".format(resposta_d.shape[0], resposta_d.shape[1]))\n",
        "print(\"Tipo: {}\".format(tipo_matriz(resposta_d)))\n",
        "print()\n",
        "resposta_e = matriz_c @ matriz_i\n",
        "print(\"(e) C · 2I_3 \\n{}\".format(montar_matriz(resposta_e)))\n",
        "print(\"Tamanho: {}X{}\".format(resposta_e.shape[0], resposta_e.shape[1]))\n",
        "print(\"Tipo: {}\".format(tipo_matriz(resposta_e)))\n",
        "print()\n",
        "resposta_f = np.dot(matriz_a, matriz_b) @ np.dot(matriz_b, matriz_c) @ np.dot(matriz_d, matriz_i)\n",
        "print(\"(f) A · B · C · D · I_3 \\n{}\".format(montar_matriz(resposta_f)))\n",
        "print(\"Tamanho: {}X{}\".format(resposta_f.shape[0], resposta_f.shape[1]))\n",
        "print(\"Tipo: {}\".format(tipo_matriz(resposta_f)))\n",
        "print()\n",
        "resposta_g = matriz_b @ (matriz_a + matriz_d)\n",
        "print(\"(g)  B · (A + D) \\n{}\".format(montar_matriz(resposta_g)))\n",
        "print(\"Tamanho: {}X{}\".format(resposta_g.shape[0], resposta_g.shape[1]))\n",
        "print(\"Tipo: {}\".format(tipo_matriz(resposta_g)))\n",
        "print()\n",
        "resposta_h = matriz_c + (matriz_c ** 2) + (matriz_c ** 3) + (matriz_c ** 4)\n",
        "print(\"(h)  C + C^2 + C^3 + C^4 \\n{}\".format(montar_matriz(resposta_h)))\n",
        "print(\"Tamanho: {}X{}\".format(resposta_h.shape[0], resposta_h.shape[1]))\n",
        "print(\"Tipo: {}\".format(tipo_matriz(resposta_h)))\n",
        "print()\n",
        "resposta_i = matriz_c + (matriz_c ** 2) + (matriz_c ** 3) + (matriz_c ** 4)\n",
        "print(\"(i)  A^2 + B^2 \\n{}\".format(montar_matriz(resposta_i)))\n",
        "print(\"Tamanho: {}X{}\".format(resposta_i.shape[0], resposta_i.shape[1]))\n",
        "print(\"Tipo: {}\".format(tipo_matriz(resposta_i)))\n",
        "print()"
      ],
      "metadata": {
        "id": "Fe_nuPOGPMZn"
      },
      "execution_count": null,
      "outputs": []
    },
    {
      "cell_type": "markdown",
      "source": [
        "## 5- Considere as matrizes A e B, de tamanho 2 X 2, tal que:\n",
        "$a_{ij}=$ $\\begin{cases}\n",
        "i + j, se \\ i = j \\\\\n",
        "-i, se \\ i \\neq j \\\\\n",
        "\\end{cases}$\n",
        "\n",
        "$b_{ij} = 2i - 3j$\n",
        "\n",
        "Determine:\n",
        "\n",
        "(a) $A$\n",
        "\n",
        "(b) $B$\n",
        "\n",
        "(c) $A+B;$\n",
        "\n",
        "(d) $4B−3A$\n",
        "\n",
        "(e) $A·B;$\n",
        "\n",
        "(f) $B·2A;$\n",
        "\n",
        "(g) $(A·B)^2$\n",
        "\n",
        "(h) $A^2·B^2$"
      ],
      "metadata": {
        "id": "vnnWwhi4ukNi"
      }
    },
    {
      "cell_type": "code",
      "source": [
        "matriz_a = np.empty((2, 2))\n",
        "matriz_b = np.empty((2, 2))\n",
        "for i in range(2):\n",
        "    for j in range(2):\n",
        "        if i == j:\n",
        "          matriz_a[i][j] = (i + 1) + (j + 1)\n",
        "        else:\n",
        "          matriz_a[i][j] = -(i + 1)\n",
        "        matriz_b[i][j] = (2 * (i + 1)) - (3 * (j + 1))\n",
        "matriz_a = matriz_a.astype(int)\n",
        "matriz_b = matriz_b.astype(int)\n",
        "print(\"(a) A \\n{}\\n\".format(montar_matriz(matriz_a)))\n",
        "print(\"(b) B \\n{}\\n\".format(montar_matriz(matriz_b)))\n",
        "\n",
        "resposta_c = matriz_a + matriz_b\n",
        "print(\"(c) A + B\\n{}\\n\".format(montar_matriz(resposta_c)))\n",
        "\n",
        "resposta_d = (4 * matriz_b) - (3 * matriz_a)\n",
        "print(\"(d) 4B − 3A\\n{}\\n\".format(montar_matriz(resposta_d)))\n",
        "\n",
        "resposta_e = matriz_a @ matriz_b\n",
        "print(\"(e) A · B\\n{}\\n\".format(montar_matriz(resposta_e)))\n",
        "\n",
        "resposta_f = matriz_b @ (2 * matriz_a)\n",
        "print(\"(f) B·2A\\n{}\\n\".format(montar_matriz(resposta_e)))\n",
        "\n",
        "resposta_g = (matriz_a @ matriz_b) ** 2\n",
        "print(\"(g) (A · B)^2\\n{}\\n\".format(montar_matriz(resposta_g)))\n",
        "\n",
        "resposta_h = (matriz_a ** 2) @ (matriz_b ** 2)\n",
        "print(\"(h) A^2 · B^2\\n{}\\n\".format(montar_matriz(resposta_h)))"
      ],
      "metadata": {
        "colab": {
          "base_uri": "https://localhost:8080/"
        },
        "id": "lNQ2BNO2wu7H",
        "outputId": "b23422f4-e52f-4da0-eb58-0501f13f1fc9"
      },
      "execution_count": 32,
      "outputs": [
        {
          "output_type": "stream",
          "name": "stdout",
          "text": [
            "(a) A \n",
            "|\t2\t-1\t|\n",
            "|\t-2\t4\t|\n",
            "\n",
            "(b) B \n",
            "|\t-1\t-4\t|\n",
            "|\t1\t-2\t|\n",
            "\n",
            "(c) A + B\n",
            "|\t1\t-5\t|\n",
            "|\t-1\t2\t|\n",
            "\n",
            "(d) 4B − 3A\n",
            "|\t-10\t-13\t|\n",
            "|\t10\t-20\t|\n",
            "\n",
            "(e) A · B\n",
            "|\t-3\t-6\t|\n",
            "|\t6\t0\t|\n",
            "\n",
            "(f) B·2A\n",
            "|\t-3\t-6\t|\n",
            "|\t6\t0\t|\n",
            "\n",
            "(g) (A · B)^2\n",
            "|\t9\t36\t|\n",
            "|\t36\t0\t|\n",
            "\n",
            "(h) A^2 · B^2\n",
            "|\t5\t68\t|\n",
            "|\t20\t128\t|\n",
            "\n"
          ]
        }
      ]
    },
    {
      "cell_type": "markdown",
      "source": [
        "## 6- Determine a matriz A, de ordem 3 X 3 cujos elementos são dados por:\n",
        "$a_{ij}=$ $\\begin{cases}\n",
        "3i - j, se \\ i \\lt j \\\\\n",
        "i^2 + j, se \\ i = j \\\\\n",
        "-2i + j, se \\ i \\gt j \\\\\n",
        "\\end{cases}$\n"
      ],
      "metadata": {
        "id": "ZTCrwQVI1mML"
      }
    },
    {
      "cell_type": "code",
      "source": [
        "matriz_a = np.empty((3, 3))\n",
        "\n",
        "for i in range(3):\n",
        "    for j in range(3):\n",
        "        if i < j:\n",
        "          matriz_a[i][j] = 3 * (i + 1) - (j + 1)\n",
        "        elif i == j:\n",
        "          matriz_a[i][j] = (i + 1) ** 2 + (j + 1)\n",
        "        elif i > j:\n",
        "          matriz_a[i][j] = -2 * (i + 1) + (j + 1)\n",
        "matriz_a = matriz_a.astype(int)\n",
        "print(\"Matriz A\\n{}\".format(montar_matriz(matriz_a)))"
      ],
      "metadata": {
        "colab": {
          "base_uri": "https://localhost:8080/"
        },
        "id": "gh_VVwZg51nW",
        "outputId": "3461b797-c3b6-40ce-c54e-ed66d1a6fa88"
      },
      "execution_count": 37,
      "outputs": [
        {
          "output_type": "stream",
          "name": "stdout",
          "text": [
            "Matriz A\n",
            "|\t2\t1\t0\t|\n",
            "|\t-3\t6\t3\t|\n",
            "|\t-5\t-4\t12\t|\n"
          ]
        }
      ]
    },
    {
      "cell_type": "markdown",
      "source": [
        "# 2.5 Exercícios Computacionais"
      ],
      "metadata": {
        "id": "hEhDF5m9FXaR"
      }
    }
  ]
}