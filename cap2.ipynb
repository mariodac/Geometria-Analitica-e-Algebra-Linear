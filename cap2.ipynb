{
  "nbformat": 4,
  "nbformat_minor": 0,
  "metadata": {
    "colab": {
      "provenance": [],
      "authorship_tag": "ABX9TyOzomR1DacTKwKPe8zYKxN/",
      "include_colab_link": true
    },
    "kernelspec": {
      "name": "python3",
      "display_name": "Python 3"
    },
    "language_info": {
      "name": "python"
    }
  },
  "cells": [
    {
      "cell_type": "markdown",
      "metadata": {
        "id": "view-in-github",
        "colab_type": "text"
      },
      "source": [
        "<a href=\"https://colab.research.google.com/github/mariodac/Geometria-Analitica-e-Algebra-Linear/blob/master/cap2.ipynb\" target=\"_parent\"><img src=\"https://colab.research.google.com/assets/colab-badge.svg\" alt=\"Open In Colab\"/></a>"
      ]
    },
    {
      "cell_type": "code",
      "source": [
        "import numpy as np"
      ],
      "metadata": {
        "id": "YczMV2KmmO3P"
      },
      "execution_count": 1,
      "outputs": []
    },
    {
      "cell_type": "markdown",
      "source": [
        "1- Dados os vetores **u** = (1, 2), **v** = (2, -1) e **w** = (3, 1),  calcule:\n",
        "\n",
        "\n",
        "(a) **u** + **v**;\n",
        "\n",
        "(b) **u** − **v**;\n",
        "\n",
        "(c) **u** + **v** − w**;\n",
        "\n",
        "(d) 2 · **u** − 3 ·**v** + **w**;\n",
        "\n",
        "(e) **u** ·(**v** · **w**);\n",
        "\n",
        "(f) (**u** ·**v**) · **w**\n",
        "\n"
      ],
      "metadata": {
        "id": "JjZba6trkG45"
      }
    },
    {
      "cell_type": "code",
      "execution_count": 2,
      "metadata": {
        "colab": {
          "base_uri": "https://localhost:8080/"
        },
        "id": "ex_ggqfqkEL3",
        "outputId": "c1f7de32-f9ff-4fee-dd67-335a42a941d0"
      },
      "outputs": [
        {
          "output_type": "stream",
          "name": "stdout",
          "text": [
            "(a) u + v = [3 1]\n",
            "(b) u - v = [-1  3]\n",
            "(c) u + v - w = [0 0]\n",
            "(d) 2 · u - 3 · v + w = [1 2]\n",
            "(e) u · (v · w) = [ 5 10]\n",
            "(f) (u . v) . w = [0 0]\n"
          ]
        }
      ],
      "source": [
        "vetor_u = np.array([1, 2])\n",
        "vetor_v = np.array([2, -1])\n",
        "vetor_w = np.array([3, 1])\n",
        "print(\"(a) u + v = {}\".format(vetor_u + vetor_v))\n",
        "print(\"(b) u - v = {}\".format(vetor_u - vetor_v))\n",
        "print(\"(c) u + v - w = {}\".format(vetor_u + vetor_v - vetor_w))\n",
        "print(\"(d) 2 · u - 3 · v + w = {}\".format((2 * vetor_v) - (3 * vetor_v) + vetor_w))\n",
        "print(\"(e) u · (v · w) = {}\".format(vetor_u * np.dot(vetor_v, vetor_w)))\n",
        "print(\"(f) (u . v) . w = {}\".format(np.dot(vetor_u, vetor_v) * vetor_w))"
      ]
    },
    {
      "cell_type": "markdown",
      "source": [
        "2- Dados os vetores u = (1, 2, 3), v = (-1, 2, -1) e w = (2, -1, 0), calcule:\n",
        "\n",
        "(a) **u** + **v**;\n",
        "\n",
        "(b) **u** − **v**;\n",
        "\n",
        "(c) −3 · **u** + 4 · **v** − **w**;\n",
        "\n",
        "(d) 2 · **u** −3 · **v** + **w**;\n",
        "\n",
        "(e) 2 · **u** ·(**v** · **w**);\n",
        "\n",
        "(f ) (**u** ·**v**) · **w**"
      ],
      "metadata": {
        "id": "VOO5fftkluiv"
      }
    },
    {
      "cell_type": "code",
      "source": [
        "print(\"(a) u + v = {}\".format(vetor_u + vetor_v))\n",
        "print(\"(b) u - v = {}\".format(vetor_u - vetor_v))\n",
        "print(\"(c) -3 . u + 4 . v + w = {}\".format((-3 * vetor_u) + (4 * vetor_v) + vetor_w))\n",
        "print(\"(d) 2 · u - 3 · v + w = {}\".format((2 * vetor_v) - (3 * vetor_v) + vetor_w))\n",
        "print(\"(e) 2 . u · (v · w) = {}\".format((2 * vetor_u) * np.dot(vetor_v, vetor_w)))\n",
        "print(\"(f) (u . v) . w = {}\".format(np.dot(vetor_u, vetor_v) * vetor_w))"
      ],
      "metadata": {
        "colab": {
          "base_uri": "https://localhost:8080/"
        },
        "id": "hm7WJDlVmT8F",
        "outputId": "0318a51e-3822-403b-d256-3c4042a4bf00"
      },
      "execution_count": 3,
      "outputs": [
        {
          "output_type": "stream",
          "name": "stdout",
          "text": [
            "(a) u + v = [3 1]\n",
            "(b) u - v = [-1  3]\n",
            "(c) -3 . u + 4 . v + w = [ 8 -9]\n",
            "(d) 2 · u - 3 · v + w = [1 2]\n",
            "(e) 2 . u · (v · w) = [10 20]\n",
            "(f) (u . v) . w = [0 0]\n"
          ]
        }
      ]
    }
  ]
}